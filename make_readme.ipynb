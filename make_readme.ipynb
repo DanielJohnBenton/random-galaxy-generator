{
 "cells": [
  {
   "cell_type": "code",
   "execution_count": 1,
   "metadata": {},
   "outputs": [],
   "source": [
    "from random import shuffle\n",
    "from os import listdir\n",
    "\n",
    "from IPython.display import display, Markdown"
   ]
  },
  {
   "cell_type": "code",
   "execution_count": 2,
   "metadata": {
    "scrolled": false
   },
   "outputs": [
    {
     "data": {
      "text/markdown": [
       "# Random galaxy generator\n",
       "\n",
       "![random galaxy](neat/43.png)\n",
       "\n",
       "![random galaxy](neat/5.png)\n",
       "\n",
       "![random galaxy](neat/29.png)\n",
       "\n",
       "![random galaxy](neat/3.png)\n",
       "\n",
       "![random galaxy](neat/4.png)\n",
       "\n",
       "![random galaxy](neat/8.png)\n",
       "\n",
       "![random galaxy](neat/11.png)\n",
       "\n",
       "![random galaxy](neat/15.png)\n",
       "\n",
       "![random galaxy](neat/33.png)\n",
       "\n",
       "![random galaxy](neat/9.png)\n",
       "\n",
       "![random galaxy](neat/47.png)\n",
       "\n",
       "![random galaxy](neat/41.png)\n",
       "\n",
       "![random galaxy](neat/50.png)\n",
       "\n",
       "![random galaxy](neat/31.png)\n",
       "\n",
       "![random galaxy](neat/12.png)\n",
       "\n",
       "![random galaxy](neat/32.png)\n",
       "\n",
       "![random galaxy](neat/24.png)\n",
       "\n",
       "![random galaxy](neat/7.png)\n",
       "\n",
       "![random galaxy](neat/49.png)\n",
       "\n",
       "![random galaxy](neat/18.png)\n",
       "\n",
       "![random galaxy](neat/46.png)\n",
       "\n",
       "![random galaxy](neat/27.png)\n",
       "\n",
       "![random galaxy](neat/44.png)\n",
       "\n",
       "![random galaxy](neat/6.png)\n",
       "\n",
       "![random galaxy](neat/22.png)\n",
       "\n",
       "![random galaxy](neat/14.png)\n",
       "\n",
       "![random galaxy](neat/30.png)\n",
       "\n",
       "![random galaxy](neat/48.png)\n",
       "\n",
       "![random galaxy](neat/16.png)\n",
       "\n",
       "![random galaxy](neat/2.png)\n",
       "\n",
       "![random galaxy](neat/19.png)\n",
       "\n",
       "![random galaxy](neat/28.png)\n",
       "\n",
       "![random galaxy](neat/21.png)\n",
       "\n",
       "![random galaxy](neat/36.png)\n",
       "\n",
       "![random galaxy](neat/23.png)\n",
       "\n",
       "![random galaxy](neat/25.png)\n",
       "\n",
       "![random galaxy](neat/34.png)\n",
       "\n",
       "![random galaxy](neat/37.png)\n",
       "\n",
       "![random galaxy](neat/42.png)\n",
       "\n",
       "![random galaxy](neat/20.png)\n",
       "\n",
       "![random galaxy](neat/13.png)\n",
       "\n",
       "![random galaxy](neat/38.png)\n",
       "\n",
       "![random galaxy](neat/17.png)\n",
       "\n",
       "![random galaxy](neat/10.png)\n",
       "\n",
       "![random galaxy](neat/26.png)\n",
       "\n",
       "![random galaxy](neat/35.png)\n",
       "\n",
       "![random galaxy](neat/1.png)\n",
       "\n",
       "![random galaxy](neat/40.png)\n",
       "\n",
       "![random galaxy](neat/39.png)\n",
       "\n",
       "![random galaxy](neat/45.png)"
      ],
      "text/plain": [
       "<IPython.core.display.Markdown object>"
      ]
     },
     "metadata": {},
     "output_type": "display_data"
    }
   ],
   "source": [
    "images = [file for file in listdir(\"neat\") if file.lower().endswith(\".png\")]\n",
    "\n",
    "shuffle(images)\n",
    "\n",
    "markdown = \"# Random galaxy generator\"\n",
    "\n",
    "for image in images:\n",
    "    markdown += f\"\\n\\n![random galaxy](neat/{image})\"\n",
    "\n",
    "display(Markdown(markdown))"
   ]
  },
  {
   "cell_type": "code",
   "execution_count": null,
   "metadata": {},
   "outputs": [],
   "source": []
  }
 ],
 "metadata": {
  "kernelspec": {
   "display_name": "Python 3",
   "language": "python",
   "name": "python3"
  },
  "language_info": {
   "codemirror_mode": {
    "name": "ipython",
    "version": 3
   },
   "file_extension": ".py",
   "mimetype": "text/x-python",
   "name": "python",
   "nbconvert_exporter": "python",
   "pygments_lexer": "ipython3",
   "version": "3.6.3"
  }
 },
 "nbformat": 4,
 "nbformat_minor": 2
}
